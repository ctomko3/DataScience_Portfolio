{
 "cells": [
  {
   "cell_type": "code",
   "execution_count": 1,
   "id": "ab4eaff3-e07e-4d7a-9189-18dcf4b3c2ba",
   "metadata": {
    "tags": []
   },
   "outputs": [],
   "source": [
    "from gurobipy import *\n",
    "import gurobipy as gp\n",
    "import pandas as pd"
   ]
  },
  {
   "cell_type": "code",
   "execution_count": 2,
   "id": "1647493a-b509-4ac6-bdb7-1b33fca9101a",
   "metadata": {},
   "outputs": [
    {
     "data": {
      "text/html": [
       "<div>\n",
       "<style scoped>\n",
       "    .dataframe tbody tr th:only-of-type {\n",
       "        vertical-align: middle;\n",
       "    }\n",
       "\n",
       "    .dataframe tbody tr th {\n",
       "        vertical-align: top;\n",
       "    }\n",
       "\n",
       "    .dataframe thead th {\n",
       "        text-align: right;\n",
       "    }\n",
       "</style>\n",
       "<table border=\"1\" class=\"dataframe\">\n",
       "  <thead>\n",
       "    <tr style=\"text-align: right;\">\n",
       "      <th></th>\n",
       "      <th>Unique Identifier</th>\n",
       "      <th>Player</th>\n",
       "      <th>Position</th>\n",
       "      <th>Age</th>\n",
       "      <th>WS</th>\n",
       "      <th>Salary</th>\n",
       "      <th>GS_Percent</th>\n",
       "      <th>G</th>\n",
       "      <th>All-Star</th>\n",
       "    </tr>\n",
       "  </thead>\n",
       "  <tbody>\n",
       "    <tr>\n",
       "      <th>0</th>\n",
       "      <td>jokicni01</td>\n",
       "      <td>Nikola Jokić</td>\n",
       "      <td>C</td>\n",
       "      <td>27</td>\n",
       "      <td>14.9</td>\n",
       "      <td>47607350</td>\n",
       "      <td>1.0</td>\n",
       "      <td>69</td>\n",
       "      <td>1</td>\n",
       "    </tr>\n",
       "    <tr>\n",
       "      <th>1</th>\n",
       "      <td>sabondo01</td>\n",
       "      <td>Domantas Sabonis</td>\n",
       "      <td>C</td>\n",
       "      <td>26</td>\n",
       "      <td>12.6</td>\n",
       "      <td>30600000</td>\n",
       "      <td>1.0</td>\n",
       "      <td>79</td>\n",
       "      <td>1</td>\n",
       "    </tr>\n",
       "    <tr>\n",
       "      <th>2</th>\n",
       "      <td>butleji01</td>\n",
       "      <td>Jimmy Butler</td>\n",
       "      <td>PF</td>\n",
       "      <td>33</td>\n",
       "      <td>12.3</td>\n",
       "      <td>45183960</td>\n",
       "      <td>1.0</td>\n",
       "      <td>64</td>\n",
       "      <td>1</td>\n",
       "    </tr>\n",
       "    <tr>\n",
       "      <th>3</th>\n",
       "      <td>embiijo01</td>\n",
       "      <td>Joel Embiid</td>\n",
       "      <td>C</td>\n",
       "      <td>28</td>\n",
       "      <td>12.3</td>\n",
       "      <td>47607350</td>\n",
       "      <td>1.0</td>\n",
       "      <td>66</td>\n",
       "      <td>1</td>\n",
       "    </tr>\n",
       "    <tr>\n",
       "      <th>4</th>\n",
       "      <td>gilgesh01</td>\n",
       "      <td>Shai Gilgeous-Alexander</td>\n",
       "      <td>PG</td>\n",
       "      <td>24</td>\n",
       "      <td>11.4</td>\n",
       "      <td>33386850</td>\n",
       "      <td>1.0</td>\n",
       "      <td>68</td>\n",
       "      <td>1</td>\n",
       "    </tr>\n",
       "  </tbody>\n",
       "</table>\n",
       "</div>"
      ],
      "text/plain": [
       "  Unique Identifier                   Player Position  Age    WS    Salary  \\\n",
       "0         jokicni01             Nikola Jokić        C   27  14.9  47607350   \n",
       "1         sabondo01         Domantas Sabonis        C   26  12.6  30600000   \n",
       "2         butleji01             Jimmy Butler       PF   33  12.3  45183960   \n",
       "3         embiijo01              Joel Embiid        C   28  12.3  47607350   \n",
       "4         gilgesh01  Shai Gilgeous-Alexander       PG   24  11.4  33386850   \n",
       "\n",
       "   GS_Percent   G  All-Star  \n",
       "0         1.0  69         1  \n",
       "1         1.0  79         1  \n",
       "2         1.0  64         1  \n",
       "3         1.0  66         1  \n",
       "4         1.0  68         1  "
      ]
     },
     "execution_count": 2,
     "metadata": {},
     "output_type": "execute_result"
    }
   ],
   "source": [
    "# importing dataset\n",
    "nba_data = pd.read_csv('OIE_Project_Final_Data.csv')\n",
    "nba_data.head()"
   ]
  },
  {
   "cell_type": "code",
   "execution_count": 3,
   "id": "69483542-b7f5-4414-9e86-c88cea07197a",
   "metadata": {},
   "outputs": [],
   "source": [
    "nba_data['Salary'] = nba_data['Salary'].astype('int64')"
   ]
  },
  {
   "cell_type": "code",
   "execution_count": 4,
   "id": "b208bb26-ea97-421e-80ed-1b4d74050db0",
   "metadata": {},
   "outputs": [],
   "source": [
    "# objective function coefficients\n",
    "max_ws_fun = nba_data['WS']"
   ]
  },
  {
   "cell_type": "code",
   "execution_count": 5,
   "id": "390b4178-cae3-4380-826b-f39d4bc0f885",
   "metadata": {},
   "outputs": [
    {
     "name": "stdout",
     "output_type": "stream",
     "text": [
      "Restricted license - for non-production use only - expires 2024-10-28\n"
     ]
    }
   ],
   "source": [
    "# creating model\n",
    "model  = Model()"
   ]
  },
  {
   "cell_type": "code",
   "execution_count": 6,
   "id": "5a4cd03d-5427-4f45-9fb1-83f499822ab3",
   "metadata": {},
   "outputs": [
    {
     "data": {
      "text/plain": [
       "391"
      ]
     },
     "execution_count": 6,
     "metadata": {},
     "output_type": "execute_result"
    }
   ],
   "source": [
    "# length of decision variables\n",
    "num_vars = len(max_ws_fun)\n",
    "num_vars"
   ]
  },
  {
   "cell_type": "code",
   "execution_count": 7,
   "id": "55bfbc78-728f-4c15-9b62-995a6e2b117e",
   "metadata": {},
   "outputs": [],
   "source": [
    "# adding decision variables to model\n",
    "vars = model.addVars(num_vars, vtype=gurobipy.GRB.BINARY, name='x')"
   ]
  },
  {
   "cell_type": "code",
   "execution_count": 8,
   "id": "dd7c1182-b251-4561-931f-08b31312338b",
   "metadata": {},
   "outputs": [],
   "source": [
    "# setting objective function for maximizing the number of win shares\n",
    "model.setObjective(gurobipy.quicksum(max_ws_fun[i] * vars[i] \n",
    "                                     for i in range(num_vars)), sense=gurobipy.GRB.MAXIMIZE)"
   ]
  },
  {
   "cell_type": "code",
   "execution_count": 9,
   "id": "8a35e5ee-7eb6-438b-8052-0bc5a7a98b77",
   "metadata": {},
   "outputs": [
    {
     "data": {
      "text/plain": [
       "<gurobi.Constr *Awaiting Model Update*>"
      ]
     },
     "execution_count": 9,
     "metadata": {},
     "output_type": "execute_result"
    }
   ],
   "source": [
    "# setting the max number of players on the team\n",
    "max_players = 10\n",
    "model.addConstr(gurobipy.quicksum(vars[i] for i in range(num_vars)) == max_players)"
   ]
  },
  {
   "cell_type": "code",
   "execution_count": 10,
   "id": "64d612ed-01de-4d8a-adfd-52e9fc3eff7a",
   "metadata": {},
   "outputs": [
    {
     "data": {
      "text/plain": [
       "<gurobi.Constr *Awaiting Model Update*>"
      ]
     },
     "execution_count": 10,
     "metadata": {},
     "output_type": "execute_result"
    }
   ],
   "source": [
    "# adding constraint to ensure team's salary is not over salary cap\n",
    "player_salary = nba_data['Salary']\n",
    "salary_cap = 136021000\n",
    "team_salary = gurobipy.quicksum(player_salary[i] * vars[i] for i in range(num_vars))\n",
    "model.addConstr(team_salary <= salary_cap)"
   ]
  },
  {
   "cell_type": "code",
   "execution_count": 11,
   "id": "706ec905-caad-46ea-b44c-e0548894da36",
   "metadata": {},
   "outputs": [
    {
     "data": {
      "text/plain": [
       "<gurobi.Constr *Awaiting Model Update*>"
      ]
     },
     "execution_count": 11,
     "metadata": {},
     "output_type": "execute_result"
    }
   ],
   "source": [
    "# adding constraint to have 2 players with C position\n",
    "c_position_constraint = 'C'\n",
    "max_number_c = 2\n",
    "count_for_c = gurobipy.quicksum(vars[i] for i in range(num_vars) if nba_data['Position'][i] == c_position_constraint)\n",
    "model.addConstr(count_for_c <= max_number_c)"
   ]
  },
  {
   "cell_type": "code",
   "execution_count": 12,
   "id": "1201b59d-5915-427c-aef0-795b819be153",
   "metadata": {},
   "outputs": [
    {
     "data": {
      "text/plain": [
       "<gurobi.Constr *Awaiting Model Update*>"
      ]
     },
     "execution_count": 12,
     "metadata": {},
     "output_type": "execute_result"
    }
   ],
   "source": [
    "# adding constraint to have 2 players with PF position\n",
    "pf_position_constraint = 'PF'\n",
    "max_number_pf = 2\n",
    "count_for_pf = gurobipy.quicksum(vars[i] for i in range(num_vars) if nba_data['Position'][i] == pf_position_constraint)\n",
    "model.addConstr(count_for_pf <= max_number_pf)"
   ]
  },
  {
   "cell_type": "code",
   "execution_count": 13,
   "id": "972408a0-0e89-4a2d-bac4-2091672d260f",
   "metadata": {},
   "outputs": [
    {
     "data": {
      "text/plain": [
       "<gurobi.Constr *Awaiting Model Update*>"
      ]
     },
     "execution_count": 13,
     "metadata": {},
     "output_type": "execute_result"
    }
   ],
   "source": [
    "# adding constraint to have 2 players with SF position\n",
    "sf_position_constraint = 'SF'\n",
    "max_number_sf = 2\n",
    "count_for_sf = gurobipy.quicksum(vars[i] for i in range(num_vars) if nba_data['Position'][i] == sf_position_constraint)\n",
    "model.addConstr(count_for_sf <= max_number_sf)"
   ]
  },
  {
   "cell_type": "code",
   "execution_count": 14,
   "id": "d6c9cffa-9614-4ddb-9e1c-02524af0fd11",
   "metadata": {},
   "outputs": [
    {
     "data": {
      "text/plain": [
       "<gurobi.Constr *Awaiting Model Update*>"
      ]
     },
     "execution_count": 14,
     "metadata": {},
     "output_type": "execute_result"
    }
   ],
   "source": [
    "# adding constraint to have 2 players with SG position\n",
    "sg_position_constraint = 'SG'\n",
    "max_number_sg= 2\n",
    "count_for_sg = gurobipy.quicksum(vars[i] for i in range(num_vars) if nba_data['Position'][i] == sg_position_constraint)\n",
    "model.addConstr(count_for_sg <= max_number_sg)"
   ]
  },
  {
   "cell_type": "code",
   "execution_count": 15,
   "id": "686bd05a-5b18-40ad-9a23-b05d4cadfba0",
   "metadata": {},
   "outputs": [
    {
     "data": {
      "text/plain": [
       "<gurobi.Constr *Awaiting Model Update*>"
      ]
     },
     "execution_count": 15,
     "metadata": {},
     "output_type": "execute_result"
    }
   ],
   "source": [
    "# adding constraint to have 2 players with PG position\n",
    "pg_position_constraint = 'PG'\n",
    "max_number_pg = 2\n",
    "count_for_pg = gurobipy.quicksum(vars[i] for i in range(num_vars) if nba_data['Position'][i] == pg_position_constraint)\n",
    "model.addConstr(count_for_pg <= max_number_pg)"
   ]
  },
  {
   "cell_type": "code",
   "execution_count": 16,
   "id": "d340e9db-a0f7-4505-96cd-788f37f57698",
   "metadata": {},
   "outputs": [
    {
     "name": "stdout",
     "output_type": "stream",
     "text": [
      "Gurobi Optimizer version 10.0.2 build v10.0.2rc0 (win64)\n",
      "\n",
      "CPU model: Intel(R) Core(TM) i7-9750H CPU @ 2.60GHz, instruction set [SSE2|AVX|AVX2]\n",
      "Thread count: 6 physical cores, 12 logical processors, using up to 12 threads\n",
      "\n",
      "Optimize a model with 7 rows, 391 columns and 1170 nonzeros\n",
      "Model fingerprint: 0x1e33a115\n",
      "Variable types: 0 continuous, 391 integer (391 binary)\n",
      "Coefficient statistics:\n",
      "  Matrix range     [1e+00, 5e+07]\n",
      "  Objective range  [1e-01, 1e+01]\n",
      "  Bounds range     [1e+00, 1e+00]\n",
      "  RHS range        [2e+00, 1e+08]\n",
      "Found heuristic solution: objective 25.3000000\n",
      "Presolve removed 0 rows and 34 columns\n",
      "Presolve time: 0.00s\n",
      "Presolved: 7 rows, 357 columns, 1068 nonzeros\n",
      "Found heuristic solution: objective 84.8000000\n",
      "Variable types: 0 continuous, 357 integer (355 binary)\n",
      "\n",
      "Root relaxation: objective 8.581776e+01, 14 iterations, 0.00 seconds (0.00 work units)\n",
      "\n",
      "    Nodes    |    Current Node    |     Objective Bounds      |     Work\n",
      " Expl Unexpl |  Obj  Depth IntInf | Incumbent    BestBd   Gap | It/Node Time\n",
      "\n",
      "     0     0   85.81776    0    2   84.80000   85.81776  1.20%     -    0s\n",
      "     0     0   85.60691    0    2   84.80000   85.60691  0.95%     -    0s\n",
      "     0     0   85.60691    0    2   84.80000   85.60691  0.95%     -    0s\n",
      "     0     0   84.80000    0    2   84.80000   84.80000  0.00%     -    0s\n",
      "\n",
      "Cutting planes:\n",
      "  Cover: 1\n",
      "\n",
      "Explored 1 nodes (20 simplex iterations) in 0.04 seconds (0.01 work units)\n",
      "Thread count was 12 (of 12 available processors)\n",
      "\n",
      "Solution count 2: 84.8 25.3 \n",
      "\n",
      "Optimal solution found (tolerance 1.00e-04)\n",
      "Best objective 8.480000000000e+01, best bound 8.480000000000e+01, gap 0.0000%\n"
     ]
    }
   ],
   "source": [
    "model.optimize()"
   ]
  },
  {
   "cell_type": "code",
   "execution_count": 17,
   "id": "6a71683c-55f3-40ba-a398-de32d4f51763",
   "metadata": {},
   "outputs": [
    {
     "name": "stdout",
     "output_type": "stream",
     "text": [
      "Optimal Solution:\n",
      "x[0] = 1 (Associated Column Entry: Unique Identifier       jokicni01\n",
      "Player               Nikola Jokić\n",
      "Position                        C\n",
      "Age                            27\n",
      "WS                           14.9\n",
      "Salary                   47607350\n",
      "GS_Percent                    1.0\n",
      "G                              69\n",
      "All-Star                        1\n",
      "Name: 0, dtype: object)\n",
      "x[4] = 1 (Associated Column Entry: Unique Identifier                  gilgesh01\n",
      "Player               Shai Gilgeous-Alexander\n",
      "Position                                  PG\n",
      "Age                                       24\n",
      "WS                                      11.4\n",
      "Salary                              33386850\n",
      "GS_Percent                               1.0\n",
      "G                                         68\n",
      "All-Star                                   1\n",
      "Name: 4, dtype: object)\n",
      "x[13] = 1 (Associated Column Entry: Unique Identifier      mobleev01\n",
      "Player               Evan Mobley\n",
      "Position                      PF\n",
      "Age                           21\n",
      "WS                           8.5\n",
      "Salary                   8882640\n",
      "GS_Percent                   1.0\n",
      "G                             79\n",
      "All-Star                       1\n",
      "Name: 13, dtype: object)\n",
      "x[16] = 1 (Associated Column Entry: Unique Identifier          markkla01\n",
      "Player               Lauri Markkanen\n",
      "Position                          PF\n",
      "Age                               25\n",
      "WS                               8.2\n",
      "Salary                      17259999\n",
      "GS_Percent                       1.0\n",
      "G                                 66\n",
      "All-Star                           1\n",
      "Name: 16, dtype: object)\n",
      "x[23] = 1 (Associated Column Entry: Unique Identifier            halibty01\n",
      "Player               Tyrese Haliburton\n",
      "Position                            PG\n",
      "Age                                 22\n",
      "WS                                 7.6\n",
      "Salary                         5808435\n",
      "GS_Percent                         1.0\n",
      "G                                   56\n",
      "All-Star                             1\n",
      "Name: 23, dtype: object)\n",
      "x[64] = 1 (Associated Column Entry: Unique Identifier      claxtni01\n",
      "Player               Nic Claxton\n",
      "Position                       C\n",
      "Age                           23\n",
      "WS                           9.2\n",
      "Salary                   9625000\n",
      "GS_Percent                   1.0\n",
      "G                             76\n",
      "All-Star                       0\n",
      "Name: 64, dtype: object)\n",
      "x[69] = 1 (Associated Column Entry: Unique Identifier          murphtr02\n",
      "Player               Trey Murphy III\n",
      "Position                          SF\n",
      "Age                               22\n",
      "WS                               7.6\n",
      "Salary                       3359280\n",
      "GS_Percent                  0.822785\n",
      "G                                 79\n",
      "All-Star                           0\n",
      "Name: 69, dtype: object)\n",
      "x[76] = 1 (Associated Column Entry: Unique Identifier            quickim01\n",
      "Player               Immanuel Quickley\n",
      "Position                            SG\n",
      "Age                                 23\n",
      "WS                                 6.7\n",
      "Salary                         4171548\n",
      "GS_Percent                    0.259259\n",
      "G                                   81\n",
      "All-Star                             0\n",
      "Name: 76, dtype: object)\n",
      "x[86] = 1 (Associated Column Entry: Unique Identifier        banede01\n",
      "Player               Desmond Bane\n",
      "Position                       SG\n",
      "Age                            24\n",
      "WS                            5.8\n",
      "Salary                    3845083\n",
      "GS_Percent                    1.0\n",
      "G                              58\n",
      "All-Star                        0\n",
      "Name: 86, dtype: object)\n",
      "x[104] = 1 (Associated Column Entry: Unique Identifier            martike04\n",
      "Player               Kenyon Martin Jr.\n",
      "Position                            SF\n",
      "Age                                 22\n",
      "WS                                 4.9\n",
      "Salary                         1930681\n",
      "GS_Percent                    0.597561\n",
      "G                                   82\n",
      "All-Star                             0\n",
      "Name: 104, dtype: object)\n",
      "Objective Value = 84.8\n"
     ]
    }
   ],
   "source": [
    "if model.status == gp.GRB.OPTIMAL:\n",
    "    print(\"Optimal Solution:\")\n",
    "    for i in range(num_vars):\n",
    "        if vars[i].x == 1:\n",
    "            column_entry = nba_data.iloc[i]  # Get the associated row from the DataFrame\n",
    "            print(f\"x[{i}] = 1 (Associated Column Entry: {column_entry})\")\n",
    "    \n",
    "    print(f'Objective Value = {model.objVal}')\n",
    "else:\n",
    "    print(\"No solution found\")"
   ]
  }
 ],
 "metadata": {
  "kernelspec": {
   "display_name": "Python 3 (ipykernel)",
   "language": "python",
   "name": "python3"
  },
  "language_info": {
   "codemirror_mode": {
    "name": "ipython",
    "version": 3
   },
   "file_extension": ".py",
   "mimetype": "text/x-python",
   "name": "python",
   "nbconvert_exporter": "python",
   "pygments_lexer": "ipython3",
   "version": "3.9.13"
  }
 },
 "nbformat": 4,
 "nbformat_minor": 5
}
