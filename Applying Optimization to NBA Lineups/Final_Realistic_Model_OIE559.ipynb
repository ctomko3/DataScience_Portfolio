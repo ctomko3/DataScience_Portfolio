{
 "cells": [
  {
   "cell_type": "code",
   "execution_count": 2,
   "id": "b4326396-8f82-43d1-bf1c-2a2ee6fbae14",
   "metadata": {
    "tags": []
   },
   "outputs": [],
   "source": [
    "from gurobipy import *\n",
    "import gurobipy as gp\n",
    "import pandas as pd"
   ]
  },
  {
   "cell_type": "code",
   "execution_count": 3,
   "id": "1647493a-b509-4ac6-bdb7-1b33fca9101a",
   "metadata": {},
   "outputs": [],
   "source": [
    "# importing dataset\n",
    "nba_data = pd.read_csv('OIE_Project_Final_Data.csv')"
   ]
  },
  {
   "cell_type": "code",
   "execution_count": 4,
   "id": "69483542-b7f5-4414-9e86-c88cea07197a",
   "metadata": {},
   "outputs": [],
   "source": [
    "nba_data['Salary'] = nba_data['Salary'].astype('int64')\n",
    "data_types = nba_data.dtypes"
   ]
  },
  {
   "cell_type": "code",
   "execution_count": 5,
   "id": "b208bb26-ea97-421e-80ed-1b4d74050db0",
   "metadata": {},
   "outputs": [],
   "source": [
    "# objective function coefficients\n",
    "max_ws_fun = nba_data['WS']"
   ]
  },
  {
   "cell_type": "code",
   "execution_count": 6,
   "id": "390b4178-cae3-4380-826b-f39d4bc0f885",
   "metadata": {},
   "outputs": [
    {
     "name": "stdout",
     "output_type": "stream",
     "text": [
      "Restricted license - for non-production use only - expires 2024-10-28\n"
     ]
    }
   ],
   "source": [
    "# creating model\n",
    "model  = Model()"
   ]
  },
  {
   "cell_type": "code",
   "execution_count": 7,
   "id": "5a4cd03d-5427-4f45-9fb1-83f499822ab3",
   "metadata": {},
   "outputs": [],
   "source": [
    "# length of decision variables\n",
    "num_vars = len(max_ws_fun)"
   ]
  },
  {
   "cell_type": "code",
   "execution_count": 8,
   "id": "99eb1c90-b3c5-48d6-bef4-1bd9861a603c",
   "metadata": {
    "jp-MarkdownHeadingCollapsed": true,
    "tags": []
   },
   "outputs": [],
   "source": [
    "# adding decision variables to model\n",
    "vars = model.addVars(num_vars, vtype=gurobipy.GRB.BINARY, name='x')"
   ]
  },
  {
   "cell_type": "code",
   "execution_count": 9,
   "id": "dd7c1182-b251-4561-931f-08b31312338b",
   "metadata": {},
   "outputs": [],
   "source": [
    "# setting objective function for maximizing the number of win shares\n",
    "model.setObjective(gurobipy.quicksum(max_ws_fun[i] * vars[i] \n",
    "                                     for i in range(num_vars)), sense=gurobipy.GRB.MAXIMIZE)"
   ]
  },
  {
   "cell_type": "code",
   "execution_count": 10,
   "id": "8a35e5ee-7eb6-438b-8052-0bc5a7a98b77",
   "metadata": {},
   "outputs": [
    {
     "data": {
      "text/plain": [
       "<gurobi.Constr *Awaiting Model Update*>"
      ]
     },
     "execution_count": 10,
     "metadata": {},
     "output_type": "execute_result"
    }
   ],
   "source": [
    "# setting the max number of players on the team\n",
    "max_players = 10\n",
    "model.addConstr(gurobipy.quicksum(vars[i] for i in range(num_vars)) == max_players)"
   ]
  },
  {
   "cell_type": "code",
   "execution_count": 11,
   "id": "64d612ed-01de-4d8a-adfd-52e9fc3eff7a",
   "metadata": {},
   "outputs": [
    {
     "data": {
      "text/plain": [
       "<gurobi.Constr *Awaiting Model Update*>"
      ]
     },
     "execution_count": 11,
     "metadata": {},
     "output_type": "execute_result"
    }
   ],
   "source": [
    "player_salary = nba_data['Salary']\n",
    "salary_cap = 136021000\n",
    "team_salary = gurobipy.quicksum(player_salary[i] * vars[i] for i in range(num_vars))\n",
    "model.addConstr(team_salary <= salary_cap)"
   ]
  },
  {
   "cell_type": "code",
   "execution_count": 12,
   "id": "706ec905-caad-46ea-b44c-e0548894da36",
   "metadata": {},
   "outputs": [
    {
     "data": {
      "text/plain": [
       "<gurobi.Constr *Awaiting Model Update*>"
      ]
     },
     "execution_count": 12,
     "metadata": {},
     "output_type": "execute_result"
    }
   ],
   "source": [
    "# adding constraint to have 2 players with C position\n",
    "c_position_constraint = 'C'\n",
    "max_number_c = 2\n",
    "count_for_c = gurobipy.quicksum(vars[i] for i in range(num_vars) if nba_data['Position'][i] == c_position_constraint)\n",
    "model.addConstr(count_for_c <= max_number_c)"
   ]
  },
  {
   "cell_type": "code",
   "execution_count": 13,
   "id": "1201b59d-5915-427c-aef0-795b819be153",
   "metadata": {},
   "outputs": [
    {
     "data": {
      "text/plain": [
       "<gurobi.Constr *Awaiting Model Update*>"
      ]
     },
     "execution_count": 13,
     "metadata": {},
     "output_type": "execute_result"
    }
   ],
   "source": [
    "# adding constraint to have 2 players with PF position\n",
    "pf_position_constraint = 'PF'\n",
    "max_number_pf = 2\n",
    "count_for_pf = gurobipy.quicksum(vars[i] for i in range(num_vars) if nba_data['Position'][i] == pf_position_constraint)\n",
    "model.addConstr(count_for_pf <= max_number_pf)"
   ]
  },
  {
   "cell_type": "code",
   "execution_count": 14,
   "id": "972408a0-0e89-4a2d-bac4-2091672d260f",
   "metadata": {},
   "outputs": [
    {
     "data": {
      "text/plain": [
       "<gurobi.Constr *Awaiting Model Update*>"
      ]
     },
     "execution_count": 14,
     "metadata": {},
     "output_type": "execute_result"
    }
   ],
   "source": [
    "# adding constraint to have 2 players with SF position\n",
    "sf_position_constraint = 'SF'\n",
    "max_number_sf = 2\n",
    "count_for_sf = gurobipy.quicksum(vars[i] for i in range(num_vars) if nba_data['Position'][i] == sf_position_constraint)\n",
    "model.addConstr(count_for_sf <= max_number_sf)"
   ]
  },
  {
   "cell_type": "code",
   "execution_count": 15,
   "id": "d6c9cffa-9614-4ddb-9e1c-02524af0fd11",
   "metadata": {},
   "outputs": [
    {
     "data": {
      "text/plain": [
       "<gurobi.Constr *Awaiting Model Update*>"
      ]
     },
     "execution_count": 15,
     "metadata": {},
     "output_type": "execute_result"
    }
   ],
   "source": [
    "# adding constraint to have 2 players with SG position\n",
    "sg_position_constraint = 'SG'\n",
    "max_number_sg= 2\n",
    "count_for_sg = gurobipy.quicksum(vars[i] for i in range(num_vars) if nba_data['Position'][i] == sg_position_constraint)\n",
    "model.addConstr(count_for_sg <= max_number_sg)"
   ]
  },
  {
   "cell_type": "code",
   "execution_count": 16,
   "id": "686bd05a-5b18-40ad-9a23-b05d4cadfba0",
   "metadata": {},
   "outputs": [
    {
     "data": {
      "text/plain": [
       "<gurobi.Constr *Awaiting Model Update*>"
      ]
     },
     "execution_count": 16,
     "metadata": {},
     "output_type": "execute_result"
    }
   ],
   "source": [
    "# adding constraint to have 2 players with PG position\n",
    "pg_position_constraint = 'PG'\n",
    "max_number_pg = 2\n",
    "count_for_pg = gurobipy.quicksum(vars[i] for i in range(num_vars) if nba_data['Position'][i] == pg_position_constraint)\n",
    "model.addConstr(count_for_pg <= max_number_pg)"
   ]
  },
  {
   "cell_type": "code",
   "execution_count": 17,
   "id": "9f9f9e5f-061f-4613-b65a-583d1fac0ef9",
   "metadata": {},
   "outputs": [
    {
     "data": {
      "text/plain": [
       "<gurobi.Constr *Awaiting Model Update*>"
      ]
     },
     "execution_count": 17,
     "metadata": {},
     "output_type": "execute_result"
    }
   ],
   "source": [
    "# adding constraint to have max average age of team be at most 29.47\n",
    "player_age = nba_data['Age']\n",
    "upper_avg_age = 29.47\n",
    "team_avg_age = gurobipy.quicksum(player_age[i] * vars[i] for i in range(num_vars))/max_players\n",
    "model.addConstr(team_avg_age <= upper_avg_age)"
   ]
  },
  {
   "cell_type": "code",
   "execution_count": 18,
   "id": "928ad057-5f4e-4d0d-b5b5-4810d79faee1",
   "metadata": {},
   "outputs": [
    {
     "data": {
      "text/plain": [
       "<gurobi.Constr *Awaiting Model Update*>"
      ]
     },
     "execution_count": 18,
     "metadata": {},
     "output_type": "execute_result"
    }
   ],
   "source": [
    "# adding constraint to have minimum average age of team be at least 23.14\n",
    "player_age = nba_data['Age']\n",
    "lower_avg_age = 23.14\n",
    "team_avg_age = gurobipy.quicksum(player_age[i] * vars[i] for i in range(num_vars))/max_players\n",
    "model.addConstr(team_avg_age >= lower_avg_age)"
   ]
  },
  {
   "cell_type": "code",
   "execution_count": 19,
   "id": "05967315-b958-451f-957d-f6fc607d191c",
   "metadata": {},
   "outputs": [],
   "source": [
    "max_starting_at_each_position = 1\n",
    "min_percent_of_games_started = .5"
   ]
  },
  {
   "cell_type": "code",
   "execution_count": 20,
   "id": "3e323c7d-5a36-4c6b-a952-36d1defbd76c",
   "metadata": {},
   "outputs": [
    {
     "data": {
      "text/plain": [
       "<gurobi.Constr *Awaiting Model Update*>"
      ]
     },
     "execution_count": 20,
     "metadata": {},
     "output_type": "execute_result"
    }
   ],
   "source": [
    "# adding constraint to only have 1 starting C on team\n",
    "count_for_starting_c = gurobipy.quicksum(vars[i] for i in range(num_vars) if nba_data['Position'][i] == c_position_constraint and nba_data['GS_Percent'][i] >= min_percent_of_games_started)\n",
    "model.addConstr(count_for_starting_c <= max_starting_at_each_position)"
   ]
  },
  {
   "cell_type": "code",
   "execution_count": 21,
   "id": "12b9c872-816c-40c8-b016-ea3c5db0823f",
   "metadata": {},
   "outputs": [
    {
     "data": {
      "text/plain": [
       "<gurobi.Constr *Awaiting Model Update*>"
      ]
     },
     "execution_count": 21,
     "metadata": {},
     "output_type": "execute_result"
    }
   ],
   "source": [
    "# adding constraint to only have 1 starting PF on team\n",
    "count_for_starting_pf = gurobipy.quicksum(vars[i] for i in range(num_vars) if nba_data['Position'][i] == pf_position_constraint and nba_data['GS_Percent'][i] >= min_percent_of_games_started)\n",
    "model.addConstr(count_for_starting_pf <= max_starting_at_each_position)"
   ]
  },
  {
   "cell_type": "code",
   "execution_count": 22,
   "id": "f31776d8-e252-4d9c-9214-0c988bb4eaf9",
   "metadata": {},
   "outputs": [
    {
     "data": {
      "text/plain": [
       "<gurobi.Constr *Awaiting Model Update*>"
      ]
     },
     "execution_count": 22,
     "metadata": {},
     "output_type": "execute_result"
    }
   ],
   "source": [
    "# adding constraint to only have 1 starting C on team\n",
    "count_for_starting_sf = gurobipy.quicksum(vars[i] for i in range(num_vars) if nba_data['Position'][i] == sf_position_constraint and nba_data['GS_Percent'][i] >= min_percent_of_games_started)\n",
    "model.addConstr(count_for_starting_sf <= max_starting_at_each_position)"
   ]
  },
  {
   "cell_type": "code",
   "execution_count": 23,
   "id": "3c0510bd-2b53-4125-9300-1ffb57f72131",
   "metadata": {},
   "outputs": [
    {
     "data": {
      "text/plain": [
       "<gurobi.Constr *Awaiting Model Update*>"
      ]
     },
     "execution_count": 23,
     "metadata": {},
     "output_type": "execute_result"
    }
   ],
   "source": [
    "# adding constraint to only have 1 starting C on team\n",
    "count_for_starting_sg = gurobipy.quicksum(vars[i] for i in range(num_vars) if nba_data['Position'][i] == sg_position_constraint and nba_data['GS_Percent'][i] >= min_percent_of_games_started)\n",
    "model.addConstr(count_for_starting_sg <= max_starting_at_each_position)"
   ]
  },
  {
   "cell_type": "code",
   "execution_count": 24,
   "id": "12f7cec3-539e-40c2-a012-613ef08120be",
   "metadata": {},
   "outputs": [
    {
     "data": {
      "text/plain": [
       "<gurobi.Constr *Awaiting Model Update*>"
      ]
     },
     "execution_count": 24,
     "metadata": {},
     "output_type": "execute_result"
    }
   ],
   "source": [
    "# adding constraint to only have 1 starting C on team\n",
    "count_for_starting_pg = gurobipy.quicksum(vars[i] for i in range(num_vars) if nba_data['Position'][i] == pg_position_constraint and nba_data['GS_Percent'][i] >= min_percent_of_games_started)\n",
    "model.addConstr(count_for_starting_pg <= max_starting_at_each_position)"
   ]
  },
  {
   "cell_type": "code",
   "execution_count": 25,
   "id": "d0c33e12-8298-4d64-8951-c49380b21686",
   "metadata": {},
   "outputs": [
    {
     "data": {
      "text/plain": [
       "<gurobi.Constr *Awaiting Model Update*>"
      ]
     },
     "execution_count": 25,
     "metadata": {},
     "output_type": "execute_result"
    }
   ],
   "source": [
    "#setting max number of all stars for team\n",
    "max_allstars = 4\n",
    "all_star_indicator = 1\n",
    "count_all_stars = gurobipy.quicksum(vars[i] for i in range(num_vars) if nba_data['All-Star'][i] == all_star_indicator)\n",
    "model.addConstr(count_all_stars <= max_allstars)"
   ]
  },
  {
   "cell_type": "code",
   "execution_count": 26,
   "id": "d340e9db-a0f7-4505-96cd-788f37f57698",
   "metadata": {
    "tags": []
   },
   "outputs": [
    {
     "name": "stdout",
     "output_type": "stream",
     "text": [
      "Gurobi Optimizer version 10.0.2 build v10.0.2rc0 (win64)\n",
      "\n",
      "CPU model: Intel(R) Core(TM) i7-9750H CPU @ 2.60GHz, instruction set [SSE2|AVX|AVX2]\n",
      "Thread count: 6 physical cores, 12 logical processors, using up to 12 threads\n",
      "\n",
      "Optimize a model with 15 rows, 391 columns and 2187 nonzeros\n",
      "Model fingerprint: 0x801f5b27\n",
      "Variable types: 0 continuous, 391 integer (391 binary)\n",
      "Coefficient statistics:\n",
      "  Matrix range     [1e+00, 5e+07]\n",
      "  Objective range  [1e-01, 1e+01]\n",
      "  Bounds range     [1e+00, 1e+00]\n",
      "  RHS range        [1e+00, 1e+08]\n",
      "Found heuristic solution: objective 21.3000000\n",
      "Presolve removed 0 rows and 45 columns\n",
      "Presolve time: 0.01s\n",
      "Presolved: 15 rows, 346 columns, 1884 nonzeros\n",
      "Found heuristic solution: objective 76.2000000\n",
      "Variable types: 0 continuous, 346 integer (346 binary)\n",
      "\n",
      "Root relaxation: objective 7.685138e+01, 21 iterations, 0.00 seconds (0.00 work units)\n",
      "\n",
      "    Nodes    |    Current Node    |     Objective Bounds      |     Work\n",
      " Expl Unexpl |  Obj  Depth IntInf | Incumbent    BestBd   Gap | It/Node Time\n",
      "\n",
      "     0     0   76.85138    0    2   76.20000   76.85138  0.85%     -    0s\n",
      "     0     0   76.82472    0    2   76.20000   76.82472  0.82%     -    0s\n",
      "     0     0   76.67683    0    1   76.20000   76.67683  0.63%     -    0s\n",
      "     0     0   76.54156    0    1   76.20000   76.54156  0.45%     -    0s\n",
      "\n",
      "Explored 1 nodes (25 simplex iterations) in 0.04 seconds (0.01 work units)\n",
      "Thread count was 12 (of 12 available processors)\n",
      "\n",
      "Solution count 2: 76.2 21.3 \n",
      "\n",
      "Optimal solution found (tolerance 1.00e-04)\n",
      "Best objective 7.620000000000e+01, best bound 7.620000000000e+01, gap 0.0000%\n"
     ]
    }
   ],
   "source": [
    "model.optimize()"
   ]
  },
  {
   "cell_type": "code",
   "execution_count": 27,
   "id": "6a71683c-55f3-40ba-a398-de32d4f51763",
   "metadata": {},
   "outputs": [
    {
     "name": "stdout",
     "output_type": "stream",
     "text": [
      "Optimal Solution:\n",
      "x[0] = 1 (Associated Column Entry: Unique Identifier       jokicni01\n",
      "Player               Nikola Jokić\n",
      "Position                        C\n",
      "Age                            27\n",
      "WS                           14.9\n",
      "Salary                   47607350\n",
      "GS_Percent                    1.0\n",
      "G                              69\n",
      "All-Star                        1\n",
      "Name: 0, dtype: object)\n",
      "x[4] = 1 (Associated Column Entry: Unique Identifier                  gilgesh01\n",
      "Player               Shai Gilgeous-Alexander\n",
      "Position                                  PG\n",
      "Age                                       24\n",
      "WS                                      11.4\n",
      "Salary                              33386850\n",
      "GS_Percent                               1.0\n",
      "G                                         68\n",
      "All-Star                                   1\n",
      "Name: 4, dtype: object)\n",
      "x[13] = 1 (Associated Column Entry: Unique Identifier      mobleev01\n",
      "Player               Evan Mobley\n",
      "Position                      PF\n",
      "Age                           21\n",
      "WS                           8.5\n",
      "Salary                   8882640\n",
      "GS_Percent                   1.0\n",
      "G                             79\n",
      "All-Star                       1\n",
      "Name: 13, dtype: object)\n",
      "x[69] = 1 (Associated Column Entry: Unique Identifier          murphtr02\n",
      "Player               Trey Murphy III\n",
      "Position                          SF\n",
      "Age                               22\n",
      "WS                               7.6\n",
      "Salary                       3359280\n",
      "GS_Percent                  0.822785\n",
      "G                                 79\n",
      "All-Star                           0\n",
      "Name: 69, dtype: object)\n",
      "x[73] = 1 (Associated Column Entry: Unique Identifier         okongon01\n",
      "Player               Onyeka Okongwu\n",
      "Position                          C\n",
      "Age                              22\n",
      "WS                              7.1\n",
      "Salary                      8109063\n",
      "GS_Percent                    0.225\n",
      "G                                80\n",
      "All-Star                          0\n",
      "Name: 73, dtype: object)\n",
      "x[76] = 1 (Associated Column Entry: Unique Identifier            quickim01\n",
      "Player               Immanuel Quickley\n",
      "Position                            SG\n",
      "Age                                 23\n",
      "WS                                 6.7\n",
      "Salary                         4171548\n",
      "GS_Percent                    0.259259\n",
      "G                                   81\n",
      "All-Star                             0\n",
      "Name: 76, dtype: object)\n",
      "x[86] = 1 (Associated Column Entry: Unique Identifier        banede01\n",
      "Player               Desmond Bane\n",
      "Position                       SG\n",
      "Age                            24\n",
      "WS                            5.8\n",
      "Salary                    3845083\n",
      "GS_Percent                    1.0\n",
      "G                              58\n",
      "All-Star                        0\n",
      "Name: 86, dtype: object)\n",
      "x[89] = 1 (Associated Column Entry: Unique Identifier     jonesty01\n",
      "Player               Tyus Jones\n",
      "Position                     PG\n",
      "Age                          26\n",
      "WS                          5.7\n",
      "Salary                 14000000\n",
      "GS_Percent                0.275\n",
      "G                            80\n",
      "All-Star                      0\n",
      "Name: 89, dtype: object)\n",
      "x[110] = 1 (Associated Column Entry: Unique Identifier       aldamsa01\n",
      "Player               Santi Aldama\n",
      "Position                       PF\n",
      "Age                            22\n",
      "WS                            4.6\n",
      "Salary                    2194200\n",
      "GS_Percent                0.25974\n",
      "G                              77\n",
      "All-Star                        0\n",
      "Name: 110, dtype: object)\n",
      "x[139] = 1 (Associated Column Entry: Unique Identifier       beysa01\n",
      "Player               Saddiq Bey\n",
      "Position                     SF\n",
      "Age                          23\n",
      "WS                          3.9\n",
      "Salary                  4556983\n",
      "GS_Percent             0.480519\n",
      "G                            77\n",
      "All-Star                      0\n",
      "Name: 139, dtype: object)\n",
      "Objective Value = 76.20000000000002\n"
     ]
    }
   ],
   "source": [
    "if model.status == gp.GRB.OPTIMAL:\n",
    "    print(\"Optimal Solution:\")\n",
    "    for i in range(num_vars):\n",
    "        if vars[i].x == 1:\n",
    "            column_entry = nba_data.iloc[i]  # Get the associated row from the DataFrame\n",
    "            print(f\"x[{i}] = 1 (Associated Column Entry: {column_entry})\")\n",
    "    \n",
    "    print(f'Objective Value = {model.objVal}')\n",
    "else:\n",
    "    print(\"No solution found\")"
   ]
  },
  {
   "cell_type": "code",
   "execution_count": null,
   "id": "f0890dad-2c93-4486-bbfe-86342ff67412",
   "metadata": {},
   "outputs": [],
   "source": []
  },
  {
   "cell_type": "code",
   "execution_count": null,
   "id": "2c28eee0-f9cc-4c93-91f4-e6bd26d03daf",
   "metadata": {},
   "outputs": [],
   "source": []
  },
  {
   "cell_type": "code",
   "execution_count": null,
   "id": "11bf2507-08a0-4ba3-bc16-534b5222503b",
   "metadata": {},
   "outputs": [],
   "source": []
  }
 ],
 "metadata": {
  "kernelspec": {
   "display_name": "Python 3 (ipykernel)",
   "language": "python",
   "name": "python3"
  },
  "language_info": {
   "codemirror_mode": {
    "name": "ipython",
    "version": 3
   },
   "file_extension": ".py",
   "mimetype": "text/x-python",
   "name": "python",
   "nbconvert_exporter": "python",
   "pygments_lexer": "ipython3",
   "version": "3.9.13"
  }
 },
 "nbformat": 4,
 "nbformat_minor": 5
}
